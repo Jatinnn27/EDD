{
  "nbformat": 4,
  "nbformat_minor": 0,
  "metadata": {
    "colab": {
      "provenance": [],
      "gpuType": "T4"
    },
    "kernelspec": {
      "name": "python3",
      "display_name": "Python 3"
    },
    "language_info": {
      "name": "python"
    },
    "accelerator": "GPU"
  },
  "cells": [
    {
      "cell_type": "code",
      "execution_count": 1,
      "metadata": {
        "id": "9X47yYjZb6iO"
      },
      "outputs": [],
      "source": [
        "import pandas as pd\n",
        "import numpy as np\n",
        "from sklearn.model_selection import train_test_split\n",
        "from sklearn.metrics import mean_squared_error\n",
        "from xgboost import XGBRegressor\n",
        "from sklearn.preprocessing import LabelEncoder\n",
        "from geopy.distance import geodesic"
      ]
    },
    {
      "cell_type": "code",
      "source": [
        "\n",
        "import warnings\n",
        "warnings.filterwarnings('ignore', category=pd.errors.DtypeWarning)\n",
        "\n",
        "train_data = pd.read_csv('/content/train_.csv')\n",
        "test_data = pd.read_csv('/content/test_.csv')\n",
        "pincodes_data = pd.read_csv('/content/pincodes_cleaned.csv')\n",
        "\n",
        "\n",
        "pincodes_data = pincodes_data.drop_duplicates(subset='Pincode', keep='first')\n",
        "\n",
        "pincode_dict = pincodes_data.set_index('Pincode')[['Latitude', 'Longitude']].to_dict('index')\n"
      ],
      "metadata": {
        "id": "c0c1Cv2ocV29"
      },
      "execution_count": 52,
      "outputs": []
    },
    {
      "cell_type": "code",
      "source": [
        "def get_coordinates(pincode, coord_type):\n",
        "    try:\n",
        "        return pincode_dict[pincode][coord_type]\n",
        "    except KeyError:\n",
        "        return np.nan"
      ],
      "metadata": {
        "id": "M21nbqNIgnou"
      },
      "execution_count": 53,
      "outputs": []
    },
    {
      "cell_type": "code",
      "source": [
        "\n",
        "train_data['pickup_lat'] = train_data['pickup_pin_code'].apply(get_coordinates, coord_type='Latitude')\n",
        "train_data['pickup_lon'] = train_data['pickup_pin_code'].apply(get_coordinates, coord_type='Longitude')\n",
        "train_data['drop_lat'] = train_data['drop_pin_code'].apply(get_coordinates, coord_type='Latitude')\n",
        "train_data['drop_lon'] = train_data['drop_pin_code'].apply(get_coordinates, coord_type='Longitude')\n"
      ],
      "metadata": {
        "id": "eQlvvZWhg5wf"
      },
      "execution_count": 54,
      "outputs": []
    },
    {
      "cell_type": "code",
      "source": [
        "test_data['pickup_lat'] = test_data['pickup_pin_code'].apply(get_coordinates, coord_type='Latitude')\n",
        "test_data['pickup_lon'] = test_data['pickup_pin_code'].apply(get_coordinates, coord_type='Longitude')\n",
        "test_data['drop_lat'] = test_data['drop_pin_code'].apply(get_coordinates, coord_type='Latitude')\n",
        "test_data['drop_lon'] = test_data['drop_pin_code'].apply(get_coordinates, coord_type='Longitude')"
      ],
      "metadata": {
        "id": "SIcT_PZBlfeo"
      },
      "execution_count": 55,
      "outputs": []
    },
    {
      "cell_type": "code",
      "source": [
        "# Feature Engineering - Calculate geodesic distance\n",
        "def calculate_distance(row):\n",
        "    try:\n",
        "        return geodesic((row['pickup_lat'], row['pickup_lon']), (row['drop_lat'], row['drop_lon'])).km\n",
        "    except ValueError:\n",
        "        return np.nan\n",
        "\n",
        "train_data['distance_km'] = train_data.apply(calculate_distance, axis=1)\n",
        "test_data['distance_km'] = test_data.apply(calculate_distance, axis=1)"
      ],
      "metadata": {
        "colab": {
          "base_uri": "https://localhost:8080/"
        },
        "id": "aad74zswl7u8",
        "outputId": "207587e3-e965-44a1-cf6e-e7bf9249d114"
      },
      "execution_count": 56,
      "outputs": [
        {
          "output_type": "stream",
          "name": "stderr",
          "text": [
            "/usr/local/lib/python3.10/dist-packages/geopy/point.py:472: UserWarning: Latitude normalization has been prohibited in the newer versions of geopy, because the normalized value happened to be on a different pole, which is probably not what was meant. If you pass coordinates as positional args, please make sure that the order is (latitude, longitude) or (y, x) in Cartesian terms.\n",
            "  return cls(*args)\n",
            "/usr/local/lib/python3.10/dist-packages/geopy/point.py:472: UserWarning: Latitude normalization has been prohibited in the newer versions of geopy, because the normalized value happened to be on a different pole, which is probably not what was meant. If you pass coordinates as positional args, please make sure that the order is (latitude, longitude) or (y, x) in Cartesian terms.\n",
            "  return cls(*args)\n"
          ]
        }
      ]
    },
    {
      "cell_type": "code",
      "source": [
        "\n",
        "from sklearn.preprocessing import LabelEncoder\n",
        "label_encoder = LabelEncoder()\n",
        "train_data['account_mode'] = label_encoder.fit_transform(train_data['account_mode'])\n",
        "test_data['account_mode'] = label_encoder.transform(test_data['account_mode'])"
      ],
      "metadata": {
        "id": "_jgdbyrHofmy"
      },
      "execution_count": 57,
      "outputs": []
    },
    {
      "cell_type": "code",
      "source": [
        "\n",
        "train_data['order_shipped_date'] = pd.to_datetime(train_data['order_shipped_date'])\n",
        "train_data['order_delivered_date'] = pd.to_datetime(train_data['order_delivered_date'])\n",
        "train_data['delivery_time'] = (train_data['order_delivered_date'] - train_data['order_shipped_date']).dt.days"
      ],
      "metadata": {
        "id": "QDr9GbvQooAC"
      },
      "execution_count": 58,
      "outputs": []
    },
    {
      "cell_type": "code",
      "source": [
        "test_data['order_shipped_date'] = pd.to_datetime(test_data['order_shipped_date'])"
      ],
      "metadata": {
        "id": "2b_633H2ovhz"
      },
      "execution_count": 59,
      "outputs": []
    },
    {
      "cell_type": "code",
      "source": [
        "# Dropping unused columns\n",
        "train_data.drop(['id', 'order_delivered_date', 'order_shipped_date'], axis=1, inplace=True)\n",
        "test_ids = test_data['id']\n",
        "test_data.drop(['id', 'order_shipped_date'], axis=1, inplace=True)"
      ],
      "metadata": {
        "id": "vhNt_4tnozzJ"
      },
      "execution_count": 60,
      "outputs": []
    },
    {
      "cell_type": "code",
      "source": [
        "# Define input features and target variable\n",
        "X = train_data.drop('delivery_time', axis=1)\n",
        "y = train_data['delivery_time']\n",
        "X_test = test_data.copy()"
      ],
      "metadata": {
        "id": "c7U6esiLq90f"
      },
      "execution_count": 61,
      "outputs": []
    },
    {
      "cell_type": "code",
      "source": [
        "# Splitting data for validation\n",
        "X_train, X_val, y_train, y_val = train_test_split(X, y, test_size=0.2, random_state=42)"
      ],
      "metadata": {
        "id": "lnYTbBUUrieL"
      },
      "execution_count": 62,
      "outputs": []
    },
    {
      "cell_type": "code",
      "source": [
        "import xgboost as xgb\n",
        "print(xgb.__version__)"
      ],
      "metadata": {
        "colab": {
          "base_uri": "https://localhost:8080/"
        },
        "id": "1Pk9AH6ms39i",
        "outputId": "6f547a55-0ec9-4094-b1b1-cc816846a5c4"
      },
      "execution_count": 38,
      "outputs": [
        {
          "output_type": "stream",
          "name": "stdout",
          "text": [
            "2.1.3\n"
          ]
        }
      ]
    },
    {
      "cell_type": "code",
      "source": [
        "import numpy as np\n",
        "\n",
        "\n",
        "X_train = np.array(X_train)\n",
        "y_train = np.array(y_train)\n",
        "X_val = np.array(X_val)\n",
        "y_val = np.array(y_val)\n",
        "\n",
        "print(f\"X_train shape: {X_train.shape}, y_train shape: {y_train.shape}\")\n",
        "print(f\"X_val shape: {X_val.shape}, y_val shape: {y_val.shape}\")\n",
        "\n"
      ],
      "metadata": {
        "colab": {
          "base_uri": "https://localhost:8080/"
        },
        "id": "voKRoZ14s8Iq",
        "outputId": "1464d032-0ce8-4c50-ebcf-f959a00547e4"
      },
      "execution_count": 63,
      "outputs": [
        {
          "output_type": "stream",
          "name": "stdout",
          "text": [
            "X_train shape: (1120664, 12), y_train shape: (1120664,)\n",
            "X_val shape: (280167, 12), y_val shape: (280167,)\n"
          ]
        }
      ]
    },
    {
      "cell_type": "code",
      "source": [
        "import xgboost as xgb\n",
        "\n",
        "xgb_model = xgb.XGBRegressor(\n",
        "    random_state=42,\n",
        "    eval_metric=\"rmse\"  # Define evaluation metric here\n",
        ")"
      ],
      "metadata": {
        "id": "bwGuVQaBrkCE"
      },
      "execution_count": 64,
      "outputs": []
    },
    {
      "cell_type": "code",
      "source": [
        "# invalid latitude/longitude\n",
        "def is_valid_coordinate(coord):\n",
        "    try:\n",
        "        # checking for valid coordinates\n",
        "        coord = float(coord)\n",
        "        return -90 <= coord <= 90 or -180 <= coord <= 180\n",
        "    except ValueError:\n",
        "        return False\n",
        "\n",
        "invalid_lat_rows = pincodes_data[~pincodes_data['Latitude'].apply(is_valid_coordinate)]\n",
        "invalid_lon_rows = pincodes_data[~pincodes_data['Longitude'].apply(is_valid_coordinate)]\n",
        "\n",
        "print(\"Invalid Latitude Rows:\")\n",
        "print(invalid_lat_rows)\n",
        "print(\"Invalid Longitude Rows:\")\n",
        "print(invalid_lon_rows)\n"
      ],
      "metadata": {
        "colab": {
          "base_uri": "https://localhost:8080/"
        },
        "id": "ZDIAut2b1XEE",
        "outputId": "0354975c-e96b-4431-bcf9-9ce407a3b626"
      },
      "execution_count": 42,
      "outputs": [
        {
          "output_type": "stream",
          "name": "stdout",
          "text": [
            "Invalid Latitude Rows:\n",
            "                   CircleName                     RegionName  \\\n",
            "201      Uttar Pradesh Circle                  Kanpur Region   \n",
            "311     Andhra Pradesh Circle              Vijayawada Region   \n",
            "312          Telangana Circle          Hyderabad City Region   \n",
            "313          Telangana Circle          Hyderabad City Region   \n",
            "315          Telangana Circle          Hyderabad City Region   \n",
            "...                       ...                            ...   \n",
            "149087       Tamilnadu Circle  Central Region, Trichirapalli   \n",
            "151031          Punjab Circle             DivReportingCircle   \n",
            "152052       Tamilnadu Circle     Western Region, Coimbatore   \n",
            "156538   Uttar Pradesh Circle                Varanasi Region   \n",
            "157002   Uttar Pradesh Circle                Varanasi Region   \n",
            "\n",
            "                   DivisionName                       OfficeName  Pincode  \\\n",
            "201          Kanpur HO Division                       NDC Kanpur   208001   \n",
            "311              Gudur Division   VIKRAMASIMHAPURI UNIVERSITY SO   524324   \n",
            "312       Secunderabad Division                  Yadgarpalli B.O   501301   \n",
            "313       Secunderabad Division                     Korremal B.O   500088   \n",
            "315       Secunderabad Division                  Pochampally B.O   500100   \n",
            "...                         ...                              ...      ...   \n",
            "149087  Tiruchirapalli Division                  Reddipalayam SO   621731   \n",
            "151031   Ludhiana City Division  Nodal Delivery Centre, Ludhiana   141011   \n",
            "152052        Namakkal Division                    Solakkadu S.O   637415   \n",
            "156538        Ghazipur Division                 Sherpur Kalan SO   233234   \n",
            "157002        Ghazipur Division                        SUHWAL SO   232341   \n",
            "\n",
            "       OfficeType      Delivery            District       StateName Latitude  \\\n",
            "201            PO  Non Delivery        KANPUR NAGAR   UTTAR PRADESH      NaN   \n",
            "311            PO      Delivery        SPSR NELLORE  ANDHRA PRADESH      NaN   \n",
            "312            BO      Delivery  MEDCHAL MALKAJGIRI       TELANGANA      NaN   \n",
            "313            BO      Delivery  MEDCHAL MALKAJGIRI       TELANGANA      NaN   \n",
            "315            BO      Delivery  MEDCHAL MALKAJGIRI       TELANGANA      NaN   \n",
            "...           ...           ...                 ...             ...      ...   \n",
            "149087         PO      Delivery            Ariyalur      TAMIL NADU      NaN   \n",
            "151031         PO      Delivery            LUDHIANA          PUNJAB      NaN   \n",
            "152052         PO      Delivery            NAMAKKAL      TAMIL NADU      NaN   \n",
            "156538         PO      Delivery            GHAZIPUR   UTTAR PRADESH      NaN   \n",
            "157002         PO      Delivery            GHAZIPUR   UTTAR PRADESH      NaN   \n",
            "\n",
            "       Longitude  \n",
            "201          NaN  \n",
            "311          NaN  \n",
            "312          NaN  \n",
            "313          NaN  \n",
            "315          NaN  \n",
            "...          ...  \n",
            "149087       NaN  \n",
            "151031       NaN  \n",
            "152052       NaN  \n",
            "156538       NaN  \n",
            "157002       NaN  \n",
            "\n",
            "[1132 rows x 11 columns]\n",
            "Invalid Longitude Rows:\n",
            "                   CircleName                     RegionName  \\\n",
            "201      Uttar Pradesh Circle                  Kanpur Region   \n",
            "311     Andhra Pradesh Circle              Vijayawada Region   \n",
            "312          Telangana Circle          Hyderabad City Region   \n",
            "313          Telangana Circle          Hyderabad City Region   \n",
            "315          Telangana Circle          Hyderabad City Region   \n",
            "...                       ...                            ...   \n",
            "149087       Tamilnadu Circle  Central Region, Trichirapalli   \n",
            "151031          Punjab Circle             DivReportingCircle   \n",
            "152052       Tamilnadu Circle     Western Region, Coimbatore   \n",
            "156538   Uttar Pradesh Circle                Varanasi Region   \n",
            "157002   Uttar Pradesh Circle                Varanasi Region   \n",
            "\n",
            "                   DivisionName                       OfficeName  Pincode  \\\n",
            "201          Kanpur HO Division                       NDC Kanpur   208001   \n",
            "311              Gudur Division   VIKRAMASIMHAPURI UNIVERSITY SO   524324   \n",
            "312       Secunderabad Division                  Yadgarpalli B.O   501301   \n",
            "313       Secunderabad Division                     Korremal B.O   500088   \n",
            "315       Secunderabad Division                  Pochampally B.O   500100   \n",
            "...                         ...                              ...      ...   \n",
            "149087  Tiruchirapalli Division                  Reddipalayam SO   621731   \n",
            "151031   Ludhiana City Division  Nodal Delivery Centre, Ludhiana   141011   \n",
            "152052        Namakkal Division                    Solakkadu S.O   637415   \n",
            "156538        Ghazipur Division                 Sherpur Kalan SO   233234   \n",
            "157002        Ghazipur Division                        SUHWAL SO   232341   \n",
            "\n",
            "       OfficeType      Delivery            District       StateName Latitude  \\\n",
            "201            PO  Non Delivery        KANPUR NAGAR   UTTAR PRADESH      NaN   \n",
            "311            PO      Delivery        SPSR NELLORE  ANDHRA PRADESH      NaN   \n",
            "312            BO      Delivery  MEDCHAL MALKAJGIRI       TELANGANA      NaN   \n",
            "313            BO      Delivery  MEDCHAL MALKAJGIRI       TELANGANA      NaN   \n",
            "315            BO      Delivery  MEDCHAL MALKAJGIRI       TELANGANA      NaN   \n",
            "...           ...           ...                 ...             ...      ...   \n",
            "149087         PO      Delivery            Ariyalur      TAMIL NADU      NaN   \n",
            "151031         PO      Delivery            LUDHIANA          PUNJAB      NaN   \n",
            "152052         PO      Delivery            NAMAKKAL      TAMIL NADU      NaN   \n",
            "156538         PO      Delivery            GHAZIPUR   UTTAR PRADESH      NaN   \n",
            "157002         PO      Delivery            GHAZIPUR   UTTAR PRADESH      NaN   \n",
            "\n",
            "       Longitude  \n",
            "201          NaN  \n",
            "311          NaN  \n",
            "312          NaN  \n",
            "313          NaN  \n",
            "315          NaN  \n",
            "...          ...  \n",
            "149087       NaN  \n",
            "151031       NaN  \n",
            "152052       NaN  \n",
            "156538       NaN  \n",
            "157002       NaN  \n",
            "\n",
            "[1139 rows x 11 columns]\n"
          ]
        }
      ]
    },
    {
      "cell_type": "code",
      "source": [
        "# Replace invalid values with NaN\n",
        "pincodes_data['Latitude'] = pincodes_data['Latitude'].apply(lambda x: float(x) if is_valid_coordinate(x) else np.nan)\n",
        "pincodes_data['Longitude'] = pincodes_data['Longitude'].apply(lambda x: float(x) if is_valid_coordinate(x) else np.nan)\n",
        "\n",
        "# representing missing values with the mean/median\n",
        "pincodes_data['Latitude'].fillna(pincodes_data['Latitude'].mean(), inplace=True)\n",
        "pincodes_data['Longitude'].fillna(pincodes_data['Longitude'].mean(), inplace=True)\n"
      ],
      "metadata": {
        "colab": {
          "base_uri": "https://localhost:8080/"
        },
        "id": "VgIqn1mK1dVQ",
        "outputId": "6be598fc-97e9-4830-de5b-2ded46608b33"
      },
      "execution_count": 43,
      "outputs": [
        {
          "output_type": "stream",
          "name": "stderr",
          "text": [
            "<ipython-input-43-6973806dfb4c>:6: FutureWarning: A value is trying to be set on a copy of a DataFrame or Series through chained assignment using an inplace method.\n",
            "The behavior will change in pandas 3.0. This inplace method will never work because the intermediate object on which we are setting values always behaves as a copy.\n",
            "\n",
            "For example, when doing 'df[col].method(value, inplace=True)', try using 'df.method({col: value}, inplace=True)' or df[col] = df[col].method(value) instead, to perform the operation inplace on the original object.\n",
            "\n",
            "\n",
            "  pincodes_data['Latitude'].fillna(pincodes_data['Latitude'].mean(), inplace=True)\n",
            "<ipython-input-43-6973806dfb4c>:7: FutureWarning: A value is trying to be set on a copy of a DataFrame or Series through chained assignment using an inplace method.\n",
            "The behavior will change in pandas 3.0. This inplace method will never work because the intermediate object on which we are setting values always behaves as a copy.\n",
            "\n",
            "For example, when doing 'df[col].method(value, inplace=True)', try using 'df.method({col: value}, inplace=True)' or df[col] = df[col].method(value) instead, to perform the operation inplace on the original object.\n",
            "\n",
            "\n",
            "  pincodes_data['Longitude'].fillna(pincodes_data['Longitude'].mean(), inplace=True)\n"
          ]
        }
      ]
    },
    {
      "cell_type": "code",
      "source": [
        "from sklearn.impute import KNNImputer\n",
        "\n",
        "# KNN imputation\n",
        "knn_imputer = KNNImputer(n_neighbors=5)\n",
        "pincodes_data[['Latitude', 'Longitude']] = knn_imputer.fit_transform(pincodes_data[['Latitude', 'Longitude']])\n"
      ],
      "metadata": {
        "id": "a7asuMJC1mQW"
      },
      "execution_count": 44,
      "outputs": []
    },
    {
      "cell_type": "code",
      "source": [
        "import pandas as pd\n",
        "import numpy as np\n",
        "\n",
        "# handling the inconsistencies in the dataset (pinocdes.csv)\n",
        "\n",
        "\n",
        "file_path = \"pincodes.csv\"  # Replace with the correct file path\n",
        "\n",
        "\n",
        "    pincodes_data = pd.read_csv(file_path, dtype={\"longitude\": str, \"latitude\": str})\n",
        "except Exception as e:\n",
        "    print(f\"Error reading the file: {e}\")\n",
        "    exit()\n",
        "\n",
        "\n",
        "def safe_float_conversion(value):\n",
        "    try:\n",
        "        return float(value)\n",
        "    except ValueError:\n",
        "        return np.nan\n",
        "\n",
        "# Applying function to longitude and latitude coulmn\n",
        "pincodes_data[\"Longitude\"] = pincodes_data[\"Longitude\"].apply(safe_float_conversion)\n",
        "pincodes_data[\"Latitude\"] = pincodes_data[\"Latitude\"].apply(safe_float_conversion)\n",
        "\n",
        "pincodes_data[\"Longitude\"].fillna(0.0, inplace=True)\n",
        "pincodes_data[\"Latitude\"].fillna(0.0, inplace=True)\n",
        "\n",
        "# Dropping rows with \"Na\"  values\n",
        " # pincodes_data.dropna(subset=[\"longitude\", \"latitude\"], inplace=True)\n",
        "\n",
        "# Saving clean data to a new file\n",
        "output_file = \"pincodes_cleaned.csv\"\n",
        "pincodes_data.to_csv(output_file, index=False)\n",
        "\n",
        "print(f\"Cleaned data saved to {output_file}\")\n"
      ],
      "metadata": {
        "colab": {
          "base_uri": "https://localhost:8080/"
        },
        "id": "AhNXo4Cf2UdI",
        "outputId": "e348da06-6ddb-4995-e52c-f828cda05511"
      },
      "execution_count": 47,
      "outputs": [
        {
          "output_type": "stream",
          "name": "stderr",
          "text": [
            "<ipython-input-47-5fbbb777c821>:26: FutureWarning: A value is trying to be set on a copy of a DataFrame or Series through chained assignment using an inplace method.\n",
            "The behavior will change in pandas 3.0. This inplace method will never work because the intermediate object on which we are setting values always behaves as a copy.\n",
            "\n",
            "For example, when doing 'df[col].method(value, inplace=True)', try using 'df.method({col: value}, inplace=True)' or df[col] = df[col].method(value) instead, to perform the operation inplace on the original object.\n",
            "\n",
            "\n",
            "  pincodes_data[\"Longitude\"].fillna(0.0, inplace=True)\n",
            "<ipython-input-47-5fbbb777c821>:27: FutureWarning: A value is trying to be set on a copy of a DataFrame or Series through chained assignment using an inplace method.\n",
            "The behavior will change in pandas 3.0. This inplace method will never work because the intermediate object on which we are setting values always behaves as a copy.\n",
            "\n",
            "For example, when doing 'df[col].method(value, inplace=True)', try using 'df.method({col: value}, inplace=True)' or df[col] = df[col].method(value) instead, to perform the operation inplace on the original object.\n",
            "\n",
            "\n",
            "  pincodes_data[\"Latitude\"].fillna(0.0, inplace=True)\n"
          ]
        },
        {
          "output_type": "stream",
          "name": "stdout",
          "text": [
            "Cleaned data saved to pincodes_cleaned.csv\n"
          ]
        }
      ]
    },
    {
      "cell_type": "code",
      "source": [
        "import pandas as pd\n",
        "import numpy as np\n",
        "\n",
        "file_path = \"pincodes.csv\"\n",
        "#handling again\n",
        "\n",
        "try:\n",
        "    pincodes_data = pd.read_csv(file_path, dtype={\"longitude\": str, \"latitude\": str})\n",
        "except Exception as e:\n",
        "    print(f\"Error reading the file: {e}\")\n",
        "    exit()\n",
        "\n",
        "def safe_float_conversion(value):\n",
        "    try:\n",
        "\n",
        "        value = value.strip().rstrip('-')\n",
        "        return float(value)\n",
        "    except (ValueError, AttributeError):\n",
        "        return np.nan\n",
        "\n",
        "\n",
        "pincodes_data[\"Longitude\"] = pincodes_data[\"Longitude\"].apply(safe_float_conversion)\n",
        "pincodes_data[\"Latitude\"] = pincodes_data[\"Latitude\"].apply(safe_float_conversion)\n",
        "\n",
        "\n",
        "pincodes_data[\"Longitude\"].fillna(0.0, inplace=True)\n",
        "pincodes_data[\"Latitude\"].fillna(0.0, inplace=True)\n",
        "\n",
        "\n",
        "\n",
        "output_file = \"pincodes_cleaned.csv\"\n",
        "pincodes_data.to_csv(output_file, index=False)\n",
        "\n",
        "print(f\"Cleaned data saved to {output_file}\")\n"
      ],
      "metadata": {
        "colab": {
          "base_uri": "https://localhost:8080/"
        },
        "id": "Tu6KIwxA20UD",
        "outputId": "36d4b431-5853-4ce8-a954-64cef5af53d1"
      },
      "execution_count": 50,
      "outputs": [
        {
          "output_type": "stream",
          "name": "stderr",
          "text": [
            "<ipython-input-50-e0999e707a1f>:28: FutureWarning: A value is trying to be set on a copy of a DataFrame or Series through chained assignment using an inplace method.\n",
            "The behavior will change in pandas 3.0. This inplace method will never work because the intermediate object on which we are setting values always behaves as a copy.\n",
            "\n",
            "For example, when doing 'df[col].method(value, inplace=True)', try using 'df.method({col: value}, inplace=True)' or df[col] = df[col].method(value) instead, to perform the operation inplace on the original object.\n",
            "\n",
            "\n",
            "  pincodes_data[\"Longitude\"].fillna(0.0, inplace=True)\n",
            "<ipython-input-50-e0999e707a1f>:29: FutureWarning: A value is trying to be set on a copy of a DataFrame or Series through chained assignment using an inplace method.\n",
            "The behavior will change in pandas 3.0. This inplace method will never work because the intermediate object on which we are setting values always behaves as a copy.\n",
            "\n",
            "For example, when doing 'df[col].method(value, inplace=True)', try using 'df.method({col: value}, inplace=True)' or df[col] = df[col].method(value) instead, to perform the operation inplace on the original object.\n",
            "\n",
            "\n",
            "  pincodes_data[\"Latitude\"].fillna(0.0, inplace=True)\n"
          ]
        },
        {
          "output_type": "stream",
          "name": "stdout",
          "text": [
            "Cleaned data saved to pincodes_cleaned.csv\n"
          ]
        }
      ]
    },
    {
      "cell_type": "code",
      "source": [
        "import xgboost as xgb\n",
        "import numpy as np\n",
        "\n",
        "# Converting data to DMatrix\n",
        "dtrain = xgb.DMatrix(X_train, label=y_train)\n",
        "dval = xgb.DMatrix(X_val, label=y_val)\n",
        "\n",
        "# Parameters for training\n",
        "params = {\n",
        "    \"objective\": \"reg:squarederror\",  # Using binary logistic for classification\n",
        "    \"eval_metric\": \"rmse\",\n",
        "    \"random_state\": 42,\n",
        "}\n",
        "\n",
        "# Initialize variables for early stopping\n",
        "best_score = np.inf\n",
        "early_stop_rounds = 20\n",
        "no_improve_rounds = 0\n",
        "best_iteration = 0\n",
        "\n",
        "# Train with manual early stopping ->  as i was facing issues with early_stop\n",
        "num_boost_round = 1000\n",
        "for i in range(1, num_boost_round + 1):\n",
        "    model = xgb.train(\n",
        "        params=params,\n",
        "        dtrain=dtrain,\n",
        "        num_boost_round=i,\n",
        "        evals=[(dval, \"eval\")],\n",
        "        verbose_eval=False,\n",
        "    )\n",
        "    # Extracting current evaulation\n",
        "    eval_score = model.eval(dval).split(\":\")[-1].strip()\n",
        "\n",
        "    if float(eval_score) < best_score:\n",
        "        best_score = float(eval_score)\n",
        "        best_iteration = i\n",
        "        no_improve_rounds = 0\n",
        "    else:\n",
        "        no_improve_rounds += 1\n",
        "\n",
        "    if no_improve_rounds >= early_stop_rounds:\n",
        "        print(f\"Early stopping at iteration {best_iteration}\")\n",
        "        break\n"
      ],
      "metadata": {
        "colab": {
          "base_uri": "https://localhost:8080/"
        },
        "id": "e7b8kVgMtiLW",
        "outputId": "a45d1751-f0cd-442a-e04a-ac91e9b24f85"
      },
      "execution_count": 65,
      "outputs": [
        {
          "output_type": "stream",
          "name": "stdout",
          "text": [
            "Early stopping at iteration 181\n"
          ]
        }
      ]
    },
    {
      "cell_type": "code",
      "source": [
        "import xgboost as xgb\n",
        "import pandas as pd\n",
        "import numpy as np\n",
        "from sklearn.metrics import mean_squared_error\n",
        "import matplotlib.pyplot as plt"
      ],
      "metadata": {
        "id": "2mb1eGoTJ1gI"
      },
      "execution_count": 69,
      "outputs": []
    },
    {
      "cell_type": "code",
      "source": [
        "val_preds = model.predict(xgb.DMatrix(X_val), iteration_range=(0, best_iteration))\n",
        "rmse = np.sqrt(mean_squared_error(y_val, val_preds))\n",
        "print(f\"Validation RMSE: {rmse}\")\n"
      ],
      "metadata": {
        "colab": {
          "base_uri": "https://localhost:8080/"
        },
        "id": "AEhatGkAMPOz",
        "outputId": "070969f0-985c-4271-dba1-9ba6cc1c0ad1"
      },
      "execution_count": 71,
      "outputs": [
        {
          "output_type": "stream",
          "name": "stdout",
          "text": [
            "Validation RMSE: 0.4044994823289819\n"
          ]
        }
      ]
    },
    {
      "cell_type": "code",
      "source": [
        "import xgboost as xgb\n",
        "\n",
        "# Convert test data to DMatrix\n",
        "test_dmatrix = xgb.DMatrix(X_test)\n",
        "\n",
        "# Predicting on test data (Booster)\n",
        "test_preds = model.predict(test_dmatrix)\n",
        "test_data['predicted_exact_sla'] = np.round(test_preds).astype(int)\n"
      ],
      "metadata": {
        "id": "H8pvkJbJMTLT"
      },
      "execution_count": 81,
      "outputs": []
    },
    {
      "cell_type": "code",
      "source": [
        "# Saving predictions\n",
        "submission = pd.DataFrame({'id': test_ids, 'predicted_exact_sla': test_data['predicted_exact_sla']})\n",
        "submission.to_csv('submission.csv', index=False)\n",
        "print(\"Predictions saved to 'submission.csv'\")\n",
        "\n"
      ],
      "metadata": {
        "colab": {
          "base_uri": "https://localhost:8080/"
        },
        "id": "qSk8eqL9OBl2",
        "outputId": "43c2361f-7688-404c-be94-4545f5ccc046"
      },
      "execution_count": 82,
      "outputs": [
        {
          "output_type": "stream",
          "name": "stdout",
          "text": [
            "Predictions saved to 'submission.csv'\n"
          ]
        }
      ]
    },
    {
      "cell_type": "code",
      "source": [
        "#  feature importance from the Booster model\n",
        "feature_importance = model.get_score(importance_type='weight')\n",
        "\n",
        "feature_importance_df = pd.DataFrame({\n",
        "    'Feature': feature_importance.keys(),\n",
        "    'Importance': feature_importance.values()\n",
        "}).sort_values(by='Importance', ascending=False)\n"
      ],
      "metadata": {
        "id": "E-zWZ-lJOPyT"
      },
      "execution_count": 83,
      "outputs": []
    },
    {
      "cell_type": "code",
      "source": [
        "import matplotlib.pyplot as plt\n",
        "\n",
        "plt.figure(figsize=(10, 6))\n",
        "plt.barh(feature_importance_df['Feature'], feature_importance_df['Importance'])\n",
        "plt.xlabel(\"Feature Importance\")\n",
        "plt.ylabel(\"Feature\")\n",
        "plt.title(\"XGBoost Feature Importance\")\n",
        "plt.show()\n"
      ],
      "metadata": {
        "colab": {
          "base_uri": "https://localhost:8080/",
          "height": 564
        },
        "id": "Z0DXEnonPnJJ",
        "outputId": "6d758edf-636b-40ae-beb9-711c960f0b77"
      },
      "execution_count": 84,
      "outputs": [
        {
          "output_type": "display_data",
          "data": {
            "text/plain": [
              "<Figure size 1000x600 with 1 Axes>"
            ],
            "image/png": "[encoded data removed]"
          },
          "metadata": {}
        }
      ]
    }
  ]
}